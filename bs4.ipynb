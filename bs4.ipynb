{
  "nbformat": 4,
  "nbformat_minor": 0,
  "metadata": {
    "colab": {
      "provenance": [],
      "authorship_tag": "ABX9TyPqoxP66fxXlY5abfLiYhX4",
      "include_colab_link": true
    },
    "kernelspec": {
      "name": "python3",
      "display_name": "Python 3"
    },
    "language_info": {
      "name": "python"
    }
  },
  "cells": [
    {
      "cell_type": "markdown",
      "metadata": {
        "id": "view-in-github",
        "colab_type": "text"
      },
      "source": [
        "<a href=\"https://colab.research.google.com/github/912amanjeet/NamasteReact/blob/main/bs4.ipynb\" target=\"_parent\"><img src=\"https://colab.research.google.com/assets/colab-badge.svg\" alt=\"Open In Colab\"/></a>"
      ]
    },
    {
      "cell_type": "code",
      "execution_count": 5,
      "metadata": {
        "id": "3ocLfBFkQRxG"
      },
      "outputs": [],
      "source": [
        "import pandas as pd\n",
        "import numpy as np\n",
        "import requests\n",
        "from bs4 import BeautifulSoup"
      ]
    },
    {
      "cell_type": "code",
      "source": [
        "try:\n",
        "  url=\"https://www.ambitionbox.com/list-of-companies?campaign=desktop_nav&page=1\"\n",
        "  response = requests.get(url=url)\n",
        "  response.raise_for_status\n",
        "\n",
        "except Exception as e:\n",
        "  print(e)\n",
        "else:\n",
        "  html=response.content\n"
      ],
      "metadata": {
        "id": "LcMUAzcjQx0P"
      },
      "execution_count": 6,
      "outputs": []
    },
    {
      "cell_type": "code",
      "source": [
        "html"
      ],
      "metadata": {
        "colab": {
          "base_uri": "https://localhost:8080/"
        },
        "id": "fJqnDZMsTDgv",
        "outputId": "bc200268-b175-4184-9f56-c55d67ff2dc8"
      },
      "execution_count": 7,
      "outputs": [
        {
          "output_type": "execute_result",
          "data": {
            "text/plain": [
              "b'<HTML><HEAD>\\n<TITLE>Access Denied</TITLE>\\n</HEAD><BODY>\\n<H1>Access Denied</H1>\\n \\nYou don\\'t have permission to access \"http&#58;&#47;&#47;www&#46;ambitionbox&#46;com&#47;list&#45;of&#45;companies&#63;\" on this server.<P>\\nReference&#32;&#35;18&#46;d307d417&#46;1747821499&#46;9c921e6c\\n<P>https&#58;&#47;&#47;errors&#46;edgesuite&#46;net&#47;18&#46;d307d417&#46;1747821499&#46;9c921e6c</P>\\n</BODY>\\n</HTML>\\n'"
            ]
          },
          "metadata": {},
          "execution_count": 7
        }
      ]
    },
    {
      "cell_type": "code",
      "source": [
        "with open(\"companies.html\",\"w\") as f:\n",
        "  f.write(html)"
      ],
      "metadata": {
        "colab": {
          "base_uri": "https://localhost:8080/",
          "height": 158
        },
        "id": "AT-42y8unCUj",
        "outputId": "3924fbf7-79c7-4e8a-d14b-899ca417c312"
      },
      "execution_count": 8,
      "outputs": [
        {
          "output_type": "error",
          "ename": "TypeError",
          "evalue": "write() argument must be str, not bytes",
          "traceback": [
            "\u001b[0;31m---------------------------------------------------------------------------\u001b[0m",
            "\u001b[0;31mTypeError\u001b[0m                                 Traceback (most recent call last)",
            "\u001b[0;32m<ipython-input-8-0e985f7b0de4>\u001b[0m in \u001b[0;36m<cell line: 0>\u001b[0;34m()\u001b[0m\n\u001b[1;32m      1\u001b[0m \u001b[0;32mwith\u001b[0m \u001b[0mopen\u001b[0m\u001b[0;34m(\u001b[0m\u001b[0;34m\"companies.html\"\u001b[0m\u001b[0;34m,\u001b[0m\u001b[0;34m\"w\"\u001b[0m\u001b[0;34m)\u001b[0m \u001b[0;32mas\u001b[0m \u001b[0mf\u001b[0m\u001b[0;34m:\u001b[0m\u001b[0;34m\u001b[0m\u001b[0;34m\u001b[0m\u001b[0m\n\u001b[0;32m----> 2\u001b[0;31m   \u001b[0mf\u001b[0m\u001b[0;34m.\u001b[0m\u001b[0mwrite\u001b[0m\u001b[0;34m(\u001b[0m\u001b[0mhtml\u001b[0m\u001b[0;34m)\u001b[0m\u001b[0;34m\u001b[0m\u001b[0;34m\u001b[0m\u001b[0m\n\u001b[0m",
            "\u001b[0;31mTypeError\u001b[0m: write() argument must be str, not bytes"
          ]
        }
      ]
    },
    {
      "cell_type": "code",
      "source": [
        "soup = BeautifulSoup(html,\"lxml\")"
      ],
      "metadata": {
        "id": "0Og9g5H4n0Q3"
      },
      "execution_count": null,
      "outputs": []
    },
    {
      "cell_type": "code",
      "source": [
        "soup.prettify()"
      ],
      "metadata": {
        "id": "6boX5R4FoAa9"
      },
      "execution_count": null,
      "outputs": []
    },
    {
      "cell_type": "code",
      "source": [
        "companies=soup.find_all(\"div\",class_=\"companyCardWrapper\")"
      ],
      "metadata": {
        "id": "0ZAwOYTlpZ4T"
      },
      "execution_count": null,
      "outputs": []
    },
    {
      "cell_type": "code",
      "source": [
        "len(companies)"
      ],
      "metadata": {
        "id": "CZtSLnrJpx_z"
      },
      "execution_count": null,
      "outputs": []
    },
    {
      "cell_type": "code",
      "source": [
        "(companies[0].prettify())"
      ],
      "metadata": {
        "id": "gJXBZNFFp_Tn"
      },
      "execution_count": null,
      "outputs": []
    },
    {
      "cell_type": "code",
      "source": [
        "company_names = soup.find_all(\"h2\",class_=\"companyCardWrapper__companyName\")"
      ],
      "metadata": {
        "id": "fSSrsPwFrC1E"
      },
      "execution_count": null,
      "outputs": []
    },
    {
      "cell_type": "code",
      "source": [
        "list_of_company_name =[]"
      ],
      "metadata": {
        "id": "-pgZ784wrSHM"
      },
      "execution_count": null,
      "outputs": []
    },
    {
      "cell_type": "code",
      "source": [
        "list_of_company_name"
      ],
      "metadata": {
        "id": "unjWnAI0ro81"
      },
      "execution_count": null,
      "outputs": []
    },
    {
      "cell_type": "code",
      "source": [
        "tcs=companies[0]"
      ],
      "metadata": {
        "id": "iwENlhM7sMb8"
      },
      "execution_count": null,
      "outputs": []
    },
    {
      "cell_type": "code",
      "source": [
        "tcs"
      ],
      "metadata": {
        "id": "JtvqoIlbshQ2"
      },
      "execution_count": null,
      "outputs": []
    },
    {
      "cell_type": "code",
      "source": [
        "tcs.find(\"h2\").get_text(strip=True)"
      ],
      "metadata": {
        "id": "euPu8MKmsj6k"
      },
      "execution_count": null,
      "outputs": []
    },
    {
      "cell_type": "code",
      "source": [
        "for company in companies:\n",
        "  company_name = company.find(\"h2\").get_text(strip=True)\n",
        "  list_of_company_name.append(company_name)\n",
        "\n",
        "list_of_company_name\n"
      ],
      "metadata": {
        "id": "j5MB1uZ9srva"
      },
      "execution_count": null,
      "outputs": []
    },
    {
      "cell_type": "code",
      "source": [
        "tcs.find(\"div\",{\"style\":\"height:auto;padding-bottom:1px;\"})"
      ],
      "metadata": {
        "id": "eWNNW_vqtnBa"
      },
      "execution_count": null,
      "outputs": []
    },
    {
      "cell_type": "code",
      "source": [
        "list_of_rating=[]"
      ],
      "metadata": {
        "id": "zeTcSfpYtz9D"
      },
      "execution_count": null,
      "outputs": []
    },
    {
      "cell_type": "code",
      "source": [
        "for company in companies:\n",
        "  rating=float(company.find(\"div\",{\"style\":\"height:auto;padding-bottom:1px;\"}).text.strip())\n",
        "  list_of_rating.append(rating)\n",
        "list_of_rating\n",
        ""
      ],
      "metadata": {
        "id": "sZjjrQ1Kt4yW"
      },
      "execution_count": null,
      "outputs": []
    },
    {
      "cell_type": "code",
      "source": [
        "len(list_of_rating)"
      ],
      "metadata": {
        "id": "1TPZtTs5vVZw"
      },
      "execution_count": null,
      "outputs": []
    },
    {
      "cell_type": "code",
      "source": [
        "len(list_of_company_name)"
      ],
      "metadata": {
        "id": "_n_Cd8ATvrT3"
      },
      "execution_count": null,
      "outputs": []
    },
    {
      "cell_type": "code",
      "source": [
        "reviews_=[]"
      ],
      "metadata": {
        "id": "ei9rcp_C1y8a"
      },
      "execution_count": null,
      "outputs": []
    },
    {
      "cell_type": "code",
      "source": [
        "for company in companies:\n",
        "  reviews=company.find(\"span\",{\"class\":\"companyCardWrapper__ActionCount\"}).get_text(strip=True)\n",
        "  reviews_.append(reviews)\n",
        "reviews_"
      ],
      "metadata": {
        "id": "BOK_ehhF15dc"
      },
      "execution_count": null,
      "outputs": []
    },
    {
      "cell_type": "code",
      "source": [
        "len(reviews_)"
      ],
      "metadata": {
        "id": "525nnWLE2k5e"
      },
      "execution_count": null,
      "outputs": []
    },
    {
      "cell_type": "code",
      "source": [
        "reviews_=[]\n",
        "salaries=[]\n",
        "interviews=[]\n",
        "jobs=[]\n"
      ],
      "metadata": {
        "id": "ClqwCr_t20IK"
      },
      "execution_count": null,
      "outputs": []
    },
    {
      "cell_type": "code",
      "source": [
        "for company in companies:\n",
        "\n",
        "  details=company.find_all(\"span\",{\"class\":\"companyCardWrapper__ActionCount\"})[0:4]\n",
        "  reviews_.append(details[0].get_text(strip=True))\n",
        "  salaries.append(details[1].get_text(strip=True))\n",
        "  interviews.append(details[2].get_text(strip=True))\n",
        "  jobs.append(details[3].get_text(strip=True))\n"
      ],
      "metadata": {
        "id": "FB3zZ2CW27G1"
      },
      "execution_count": null,
      "outputs": []
    },
    {
      "cell_type": "code",
      "source": [
        "len(jobs)"
      ],
      "metadata": {
        "id": "XV1siEeX6HN3"
      },
      "execution_count": null,
      "outputs": []
    },
    {
      "cell_type": "code",
      "source": [
        "company_data ={\n",
        "    \"CompanyName\":list_of_company_name,\n",
        "    \"Ratings\":list_of_rating,\n",
        "    \"reviewsC\":reviews_,\n",
        "    \"Salary\":salaries,\n",
        "    \"Interview\":interviews,\n",
        "    \"Jobs\":jobs\n",
        "}"
      ],
      "metadata": {
        "id": "Lrn5ifjc7ckY"
      },
      "execution_count": null,
      "outputs": []
    },
    {
      "cell_type": "code",
      "source": [
        "company_data"
      ],
      "metadata": {
        "id": "vc5XIbdw8BDb"
      },
      "execution_count": null,
      "outputs": []
    },
    {
      "cell_type": "code",
      "source": [
        "df = pd.DataFrame(company_data)"
      ],
      "metadata": {
        "id": "1VV8lDus8p6i"
      },
      "execution_count": null,
      "outputs": []
    }
  ]
}